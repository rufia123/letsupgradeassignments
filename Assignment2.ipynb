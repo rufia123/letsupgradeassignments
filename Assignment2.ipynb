{
  "nbformat": 4,
  "nbformat_minor": 0,
  "metadata": {
    "colab": {
      "name": "Assignment2.ipynb",
      "provenance": [],
      "collapsed_sections": []
    },
    "kernelspec": {
      "name": "python3",
      "display_name": "Python 3"
    }
  },
  "cells": [
    {
      "cell_type": "code",
      "metadata": {
        "colab": {
          "base_uri": "https://localhost:8080/"
        },
        "id": "SrmsGG5BrNkv",
        "outputId": "2c0fb263-bfc6-4f98-8100-8b46145147e8"
      },
      "source": [
        "a=8\r\n",
        "b=6\r\n",
        "if a>b:\r\n",
        "  print(\"A is a bigger number\")\r\n",
        "else:\r\n",
        "    print (\"b is a bigger number \")\r\n"
      ],
      "execution_count": null,
      "outputs": [
        {
          "output_type": "stream",
          "text": [
            "A is a bigger number\n"
          ],
          "name": "stdout"
        }
      ]
    },
    {
      "cell_type": "code",
      "metadata": {
        "colab": {
          "base_uri": "https://localhost:8080/"
        },
        "id": "jD0Nm5Dqr59v",
        "outputId": "9a571edf-3317-4d6b-8cb4-908baf44c3b9"
      },
      "source": [
        "altitude=1000\r\n",
        "if altitude==1000:\r\n",
        "  print(\"Safe to land\")\r\n",
        "elif altitude>1000 and altitude<=5000:\r\n",
        "    print(\"bring down to 1000\")\r\n",
        "else:\r\n",
        "      print(\"turn around and try later\")"
      ],
      "execution_count": null,
      "outputs": [
        {
          "output_type": "stream",
          "text": [
            "Safe to land\n"
          ],
          "name": "stdout"
        }
      ]
    },
    {
      "cell_type": "code",
      "metadata": {
        "id": "R971PYRuvj15"
      },
      "source": [
        "altitude=3000\r\n"
      ],
      "execution_count": null,
      "outputs": []
    },
    {
      "cell_type": "code",
      "metadata": {
        "colab": {
          "base_uri": "https://localhost:8080/"
        },
        "id": "vBV7B-Hzwu7Z",
        "outputId": "251173b6-1ddf-4861-f835-bc1e3e3a21c9"
      },
      "source": [
        "altitude=3000\r\n",
        "if altitude==1000:\r\n",
        "  print(\"Safe to land\")\r\n",
        "elif altitude>1000 and altitude<=5000:\r\n",
        "    print(\"bring down to 1000\")\r\n",
        "else:\r\n",
        "      print(\"turn around and try later\")"
      ],
      "execution_count": null,
      "outputs": [
        {
          "output_type": "stream",
          "text": [
            "bring down to 1000\n"
          ],
          "name": "stdout"
        }
      ]
    },
    {
      "cell_type": "code",
      "metadata": {
        "id": "1YrfhpT6woTl"
      },
      "source": [
        ""
      ],
      "execution_count": null,
      "outputs": []
    }
  ]
}