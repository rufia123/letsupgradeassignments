{
  "nbformat": 4,
  "nbformat_minor": 0,
  "metadata": {
    "colab": {
      "name": "Assignment3.ipynb",
      "provenance": []
    },
    "kernelspec": {
      "name": "python3",
      "display_name": "Python 3"
    }
  },
  "cells": [
    {
      "cell_type": "code",
      "metadata": {
        "id": "kQYT7yCJtRqT"
      },
      "source": [
        "def isPrime(n) : \r\n",
        " \r\n",
        "    \r\n",
        "    if (n <= 1) : \r\n",
        "        return False\r\n",
        "    if (n <= 3) : \r\n",
        "        return True\r\n",
        " \r\n",
        "    if (n % 2 == 0 or n % 3 == 0) : \r\n",
        "        return False\r\n",
        " \r\n",
        "    i = 5\r\n",
        "    while(i * i <= n) : \r\n",
        "        if (n % i == 0 or n % (i + 2) == 0) : \r\n",
        "            return False\r\n",
        "        i = i + 6\r\n",
        " \r\n",
        "    return True"
      ],
      "execution_count": 9,
      "outputs": []
    },
    {
      "cell_type": "code",
      "metadata": {
        "colab": {
          "base_uri": "https://localhost:8080/"
        },
        "id": "c-t7j1_Yu2Rl",
        "outputId": "104576e9-7040-4874-9fa3-0c5597afd6c7"
      },
      "source": [
        "isPrime(5)"
      ],
      "execution_count": 10,
      "outputs": [
        {
          "output_type": "execute_result",
          "data": {
            "text/plain": [
              "True"
            ]
          },
          "metadata": {
            "tags": []
          },
          "execution_count": 10
        }
      ]
    },
    {
      "cell_type": "code",
      "metadata": {
        "colab": {
          "base_uri": "https://localhost:8080/"
        },
        "id": "Okvzft42u9WI",
        "outputId": "5710fbb5-8717-4d62-81ed-e1c7b349d5d8"
      },
      "source": [
        "isPrime(12)"
      ],
      "execution_count": 11,
      "outputs": [
        {
          "output_type": "execute_result",
          "data": {
            "text/plain": [
              "False"
            ]
          },
          "metadata": {
            "tags": []
          },
          "execution_count": 11
        }
      ]
    },
    {
      "cell_type": "code",
      "metadata": {
        "colab": {
          "base_uri": "https://localhost:8080/"
        },
        "id": "5B12JXnPvAdW",
        "outputId": "8e53dbd1-cb82-4d12-a840-83e54c9310a3"
      },
      "source": [
        "isPrime(1)"
      ],
      "execution_count": 12,
      "outputs": [
        {
          "output_type": "execute_result",
          "data": {
            "text/plain": [
              "False"
            ]
          },
          "metadata": {
            "tags": []
          },
          "execution_count": 12
        }
      ]
    },
    {
      "cell_type": "code",
      "metadata": {
        "id": "LgH3wg4OwHub"
      },
      "source": [
        ""
      ],
      "execution_count": null,
      "outputs": []
    }
  ]
}